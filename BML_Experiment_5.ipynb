{
  "nbformat": 4,
  "nbformat_minor": 0,
  "metadata": {
    "colab": {
      "provenance": []
    },
    "kernelspec": {
      "name": "python3",
      "display_name": "Python 3"
    },
    "language_info": {
      "name": "python"
    }
  },
  "cells": [
    {
      "cell_type": "code",
      "execution_count": null,
      "metadata": {
        "colab": {
          "base_uri": "https://localhost:8080/"
        },
        "id": "-lT_EGno2KNW",
        "outputId": "24439c72-5493-4cf0-e709-efa68ee49155"
      },
      "outputs": [
        {
          "output_type": "stream",
          "name": "stdout",
          "text": [
            "Collecting ucimlrepo\n",
            "  Downloading ucimlrepo-0.0.7-py3-none-any.whl.metadata (5.5 kB)\n",
            "Requirement already satisfied: pandas>=1.0.0 in /usr/local/lib/python3.11/dist-packages (from ucimlrepo) (2.2.2)\n",
            "Requirement already satisfied: certifi>=2020.12.5 in /usr/local/lib/python3.11/dist-packages (from ucimlrepo) (2025.1.31)\n",
            "Requirement already satisfied: numpy>=1.23.2 in /usr/local/lib/python3.11/dist-packages (from pandas>=1.0.0->ucimlrepo) (2.0.2)\n",
            "Requirement already satisfied: python-dateutil>=2.8.2 in /usr/local/lib/python3.11/dist-packages (from pandas>=1.0.0->ucimlrepo) (2.8.2)\n",
            "Requirement already satisfied: pytz>=2020.1 in /usr/local/lib/python3.11/dist-packages (from pandas>=1.0.0->ucimlrepo) (2025.1)\n",
            "Requirement already satisfied: tzdata>=2022.7 in /usr/local/lib/python3.11/dist-packages (from pandas>=1.0.0->ucimlrepo) (2025.1)\n",
            "Requirement already satisfied: six>=1.5 in /usr/local/lib/python3.11/dist-packages (from python-dateutil>=2.8.2->pandas>=1.0.0->ucimlrepo) (1.17.0)\n",
            "Downloading ucimlrepo-0.0.7-py3-none-any.whl (8.0 kB)\n",
            "Installing collected packages: ucimlrepo\n",
            "Successfully installed ucimlrepo-0.0.7\n"
          ]
        }
      ],
      "source": [
        "pip install ucimlrepo"
      ]
    },
    {
      "cell_type": "code",
      "execution_count": null,
      "metadata": {
        "colab": {
          "base_uri": "https://localhost:8080/"
        },
        "outputId": "176dcfc1-c07b-4d01-eb7a-7d63fe209504",
        "id": "fc_4xgAh22S0"
      },
      "outputs": [
        {
          "output_type": "stream",
          "name": "stdout",
          "text": [
            "{'uci_id': 32, 'name': 'Cylinder Bands', 'repository_url': 'https://archive.ics.uci.edu/dataset/32/cylinder+bands', 'data_url': 'https://archive.ics.uci.edu/static/public/32/data.csv', 'abstract': 'Used in decision tree induction for mitigating process delays known as cylinder bands\" in rotogravure printing\"', 'area': 'Physics and Chemistry', 'tasks': ['Classification'], 'characteristics': ['Multivariate'], 'num_instances': 512, 'num_features': 39, 'feature_types': ['Categorical', 'Integer', 'Real'], 'demographics': [], 'target_col': ['band type'], 'index_col': None, 'has_missing_values': 'no', 'missing_values_symbol': None, 'year_of_dataset_creation': 1994, 'last_updated': 'Sun Mar 10 2024', 'dataset_doi': '10.24432/C50C7B', 'creators': ['Bob Evans'], 'intro_paper': None, 'additional_info': {'summary': \"Here's the abstract from the above reference:\\r\\n\\r\\nABSTRACT: Machine learning tools show significant promise for knowledge acquisition, particularly when human expertise is inadequate. Recently, process delays known as cylinder banding in rotogravure printing were substantially mitigated using control rules discovered by decision tree induction. Our work exemplifies a more general methodology which transforms the knowledge acquisition task from one in which rules are directly elicited from an expert, to one in which a learning system is responsible for rule generation. The primary responsibilities of the human expert are to evaluate the merits of generated rules, and to guide the acquisition and classification of data necessary for machine induction. These responsibilities require the expert to do what an expert does best: to exercise his or her expertise. This seems a more natural fit to an expert's capabilities than the requirements of traditional methodologies that experts explicitly enumerate the rules that they employ.\", 'purpose': None, 'funded_by': None, 'instances_represent': None, 'recommended_data_splits': None, 'sensitive_data': None, 'preprocessing_description': None, 'variable_info': '\\t 1. timestamp: numeric;19500101 - 21001231 \\r\\n\\t 2. cylinder number: nominal\\r\\n\\t 3. customer: nominal; \\r\\n\\t 4. job number: nominal; \\r\\n\\t 5. grain screened: nominal; yes, no \\r\\n\\t 6. ink color: nominal;  key, type \\r\\n\\t 7. proof on ctd ink:  nominal;  yes, no  \\r\\n\\t 8. blade mfg: nominal;  benton, daetwyler, uddeholm \\r\\n\\t 9. cylinder division: nominal;  gallatin, warsaw, mattoon \\r\\n\\t10. paper type: nominal;  uncoated, coated, super \\r\\n\\t11. ink type: nominal;  uncoated, coated, cover \\r\\n\\t12. direct steam: nominal; use; yes, no *\\r\\n\\t13. solvent type: nominal;  xylol, lactol, naptha, line, other \\r\\n\\t14. type on cylinder:  nominal;  yes, no  \\r\\n\\t15. press type: nominal; use; 70 wood hoe, 70 motter, 70 albert, 94 motter \\r\\n\\t16. press: nominal;  821, 802, 813, 824, 815, 816, 827, 828 \\r\\n\\t17. unit number: nominal;  1, 2, 3, 4, 5, 6, 7, 8, 9, 10 \\r\\n\\t18. cylinder size: nominal;  catalog, spiegel, tabloid \\r\\n\\t19. paper mill location: nominal; north us, south us, canadian, scandanavian, mid european\\r\\n\\t20. plating tank: nominal; 1910, 1911, other \\r\\n\\t21. proof cut: numeric;  0-100 \\r\\n\\t22. viscosity: numeric;  0-100 \\r\\n\\t23. caliper: numeric;  0-1.0 \\r\\n\\t24. ink temperature: numeric;  5-30 \\r\\n\\t25. humifity: numeric;  5-120 \\r\\n\\t26. roughness: numeric;  0-2 \\r\\n\\t27. blade pressure: numeric;  10-75 \\r\\n\\t28. varnish pct: numeric;  0-100 \\r\\n\\t29. press speed: numeric;  0-4000 \\r\\n\\t30. ink pct: numeric;  0-100 \\r\\n\\t31. solvent pct: numeric;  0-100 \\r\\n\\t32. ESA Voltage: numeric;  0-16 \\r\\n\\t33. ESA Amperage: numeric;  0-10 \\r\\n\\t34. wax: numeric ;  0-4.0\\r\\n\\t35. hardener:  numeric; 0-3.0 \\r\\n\\t36. roller durometer:  numeric;  15-120 \\r\\n\\t37. current density:  numeric;  20-50 \\r\\n\\t38. anode space ratio:  numeric;  70-130 \\r\\n\\t39. chrome content: numeric; 80-120 \\r\\n\\t40. band type: nominal; class; band, no band *', 'citation': None}}\n",
            "                   name     role         type demographic description units  \\\n",
            "0             timestamp  Feature      Integer        None        None  None   \n",
            "1       cylinder number  Feature  Categorical        None        None  None   \n",
            "2              customer  Feature  Categorical        None        None  None   \n",
            "3            job number  Feature      Integer        None        None  None   \n",
            "4        grain screened  Feature  Categorical        None        None  None   \n",
            "5             ink color  Feature  Categorical        None        None  None   \n",
            "6      proof on ctd ink  Feature  Categorical        None        None  None   \n",
            "7             blade mfg  Feature  Categorical        None        None  None   \n",
            "8     cylinder division  Feature  Categorical        None        None  None   \n",
            "9            paper type  Feature  Categorical        None        None  None   \n",
            "10             ink type  Feature  Categorical        None        None  None   \n",
            "11         direct steam  Feature  Categorical        None        None  None   \n",
            "12         solvent type  Feature  Categorical        None        None  None   \n",
            "13     type on cylinder  Feature  Categorical        None        None  None   \n",
            "14           press type  Feature  Categorical        None        None  None   \n",
            "15                press  Feature      Integer        None        None  None   \n",
            "16          unit number  Feature      Integer        None        None  None   \n",
            "17        cylinder size  Feature  Categorical        None        None  None   \n",
            "18  paper mill location  Feature  Categorical        None        None  None   \n",
            "19         plating tank  Feature      Integer        None        None  None   \n",
            "20            proof cut  Feature  Categorical        None        None  None   \n",
            "21            viscosity  Feature      Integer        None        None  None   \n",
            "22              caliper  Feature   Continuous        None        None  None   \n",
            "23      ink temperature  Feature   Continuous        None        None  None   \n",
            "24             humidity  Feature      Integer        None        None  None   \n",
            "25            roughness  Feature   Continuous        None        None  None   \n",
            "26       blade pressure  Feature      Integer        None        None  None   \n",
            "27          varnish pct  Feature  Categorical        None        None  None   \n",
            "28          press speed  Feature      Integer        None        None  None   \n",
            "29              ink pct  Feature  Categorical        None        None  None   \n",
            "30          solvent pct  Feature  Categorical        None        None  None   \n",
            "31          esa voltage  Feature  Categorical        None        None  None   \n",
            "32         esa amperage  Feature  Categorical        None        None  None   \n",
            "33                  wax  Feature   Continuous        None        None  None   \n",
            "34             hardener  Feature      Integer        None        None  None   \n",
            "35     roller durometer  Feature  Categorical        None        None  None   \n",
            "36      current density  Feature      Integer        None        None  None   \n",
            "37    anode space ratio  Feature   Continuous        None        None  None   \n",
            "38       chrome content  Feature      Integer        None        None  None   \n",
            "39            band type   Target       Binary        None        None  None   \n",
            "\n",
            "   missing_values  \n",
            "0              no  \n",
            "1              no  \n",
            "2              no  \n",
            "3              no  \n",
            "4              no  \n",
            "5              no  \n",
            "6              no  \n",
            "7              no  \n",
            "8              no  \n",
            "9              no  \n",
            "10             no  \n",
            "11             no  \n",
            "12             no  \n",
            "13             no  \n",
            "14             no  \n",
            "15             no  \n",
            "16             no  \n",
            "17             no  \n",
            "18             no  \n",
            "19             no  \n",
            "20             no  \n",
            "21             no  \n",
            "22             no  \n",
            "23             no  \n",
            "24             no  \n",
            "25             no  \n",
            "26             no  \n",
            "27             no  \n",
            "28             no  \n",
            "29             no  \n",
            "30             no  \n",
            "31             no  \n",
            "32             no  \n",
            "33             no  \n",
            "34             no  \n",
            "35             no  \n",
            "36             no  \n",
            "37             no  \n",
            "38             no  \n",
            "39             no  \n"
          ]
        }
      ],
      "source": [
        "from ucimlrepo import fetch_ucirepo\n",
        "\n",
        "cylinder_bands = fetch_ucirepo(id=32)\n",
        "\n",
        "X = cylinder_bands.data.features\n",
        "y = cylinder_bands.data.targets\n",
        "\n",
        "print(cylinder_bands.metadata)\n",
        "\n",
        "print(cylinder_bands.variables)"
      ]
    }
  ]
}